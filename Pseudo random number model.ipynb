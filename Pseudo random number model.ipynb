{
 "cells": [
  {
   "cell_type": "code",
   "execution_count": 1,
   "id": "89de8ca1",
   "metadata": {
    "scrolled": true
   },
   "outputs": [
    {
     "name": "stderr",
     "output_type": "stream",
     "text": [
      "\n",
      "PackageNotInstalledError: Package is not installed in prefix.\n",
      "  prefix: C:\\Users\\vusi\\anaconda3\n",
      "  package name: jupyerlab\n",
      "\n",
      "\n"
     ]
    },
    {
     "name": "stdout",
     "output_type": "stream",
     "text": [
      "Retrieving notices: ...working... done\n"
     ]
    },
    {
     "name": "stderr",
     "output_type": "stream",
     "text": [
      "C:\\Users\\vusi\\anaconda3\\Lib\\site-packages\\pandas\\core\\arrays\\masked.py:60: UserWarning: Pandas requires version '1.3.6' or newer of 'bottleneck' (version '1.3.5' currently installed).\n",
      "  from pandas.core import (\n"
     ]
    },
    {
     "name": "stdout",
     "output_type": "stream",
     "text": [
      "Requirement already satisfied: openpyxl in c:\\users\\vusi\\anaconda3\\lib\\site-packages (3.0.10)\n",
      "Requirement already satisfied: et_xmlfile in c:\\users\\vusi\\anaconda3\\lib\\site-packages (from openpyxl) (1.1.0)\n"
     ]
    }
   ],
   "source": [
    "!conda update jupyerlab\n",
    "import pandas as pd\n",
    "import numpy as np\n",
    "import matplotlib.pyplot as plt\n",
    "import seaborn as sns\n",
    "from sklearn import preprocessing\n",
    "from sklearn.model_selection import train_test_split\n",
    "from sklearn.model_selection import GridSearchCV\n",
    "from sklearn.linear_model import LogisticRegression\n",
    "from sklearn.svm import SVC\n",
    "from sklearn.tree import DecisionTreeClassifier\n",
    "from sklearn.tree import DecisionTreeRegressor\n",
    "from sklearn.neighbors import KNeighborsClassifier\n",
    "!pip install openpyxl\n",
    "from sklearn.neural_network import MLPClassifier\n",
    "from matplotlib import pyplot as plt\n",
    "from sklearn.inspection import permutation_importance\n",
    "from sklearn.metrics import precision_score\n",
    "from sklearn.metrics import recall_score\n"
   ]
  },
  {
   "cell_type": "code",
   "execution_count": 2,
   "id": "bebbc1cf",
   "metadata": {
    "scrolled": true
   },
   "outputs": [
    {
     "data": {
      "text/html": [
       "<div>\n",
       "<style scoped>\n",
       "    .dataframe tbody tr th:only-of-type {\n",
       "        vertical-align: middle;\n",
       "    }\n",
       "\n",
       "    .dataframe tbody tr th {\n",
       "        vertical-align: top;\n",
       "    }\n",
       "\n",
       "    .dataframe thead th {\n",
       "        text-align: right;\n",
       "    }\n",
       "</style>\n",
       "<table border=\"1\" class=\"dataframe\">\n",
       "  <thead>\n",
       "    <tr style=\"text-align: right;\">\n",
       "      <th></th>\n",
       "      <th>Target</th>\n",
       "      <th>Current code</th>\n",
       "      <th>Position code</th>\n",
       "      <th>Prev position code</th>\n",
       "      <th>D</th>\n",
       "      <th>E</th>\n",
       "      <th>Position number</th>\n",
       "      <th>Temp pos</th>\n",
       "      <th>Prev pos</th>\n",
       "      <th>Temp</th>\n",
       "      <th>Class1</th>\n",
       "      <th>Class 2</th>\n",
       "      <th>Class 3</th>\n",
       "    </tr>\n",
       "  </thead>\n",
       "  <tbody>\n",
       "    <tr>\n",
       "      <th>0</th>\n",
       "      <td>1</td>\n",
       "      <td>16</td>\n",
       "      <td>16</td>\n",
       "      <td>13</td>\n",
       "      <td>10</td>\n",
       "      <td>100</td>\n",
       "      <td>3</td>\n",
       "      <td>1</td>\n",
       "      <td>1</td>\n",
       "      <td>6</td>\n",
       "      <td>500</td>\n",
       "      <td>100</td>\n",
       "      <td>25</td>\n",
       "    </tr>\n",
       "    <tr>\n",
       "      <th>1</th>\n",
       "      <td>2</td>\n",
       "      <td>12</td>\n",
       "      <td>19</td>\n",
       "      <td>16</td>\n",
       "      <td>10</td>\n",
       "      <td>100</td>\n",
       "      <td>1</td>\n",
       "      <td>1</td>\n",
       "      <td>1</td>\n",
       "      <td>9</td>\n",
       "      <td>500</td>\n",
       "      <td>100</td>\n",
       "      <td>25</td>\n",
       "    </tr>\n",
       "    <tr>\n",
       "      <th>2</th>\n",
       "      <td>2</td>\n",
       "      <td>15</td>\n",
       "      <td>13</td>\n",
       "      <td>19</td>\n",
       "      <td>100</td>\n",
       "      <td>10</td>\n",
       "      <td>2</td>\n",
       "      <td>1</td>\n",
       "      <td>1</td>\n",
       "      <td>3</td>\n",
       "      <td>75</td>\n",
       "      <td>50</td>\n",
       "      <td>75</td>\n",
       "    </tr>\n",
       "    <tr>\n",
       "      <th>3</th>\n",
       "      <td>2</td>\n",
       "      <td>18</td>\n",
       "      <td>16</td>\n",
       "      <td>13</td>\n",
       "      <td>100</td>\n",
       "      <td>100</td>\n",
       "      <td>1</td>\n",
       "      <td>1</td>\n",
       "      <td>1</td>\n",
       "      <td>6</td>\n",
       "      <td>500</td>\n",
       "      <td>25</td>\n",
       "      <td>100</td>\n",
       "    </tr>\n",
       "    <tr>\n",
       "      <th>4</th>\n",
       "      <td>3</td>\n",
       "      <td>11</td>\n",
       "      <td>16</td>\n",
       "      <td>13</td>\n",
       "      <td>10</td>\n",
       "      <td>100</td>\n",
       "      <td>3</td>\n",
       "      <td>1</td>\n",
       "      <td>1</td>\n",
       "      <td>6</td>\n",
       "      <td>100</td>\n",
       "      <td>100</td>\n",
       "      <td>25</td>\n",
       "    </tr>\n",
       "    <tr>\n",
       "      <th>5</th>\n",
       "      <td>3</td>\n",
       "      <td>11</td>\n",
       "      <td>16</td>\n",
       "      <td>13</td>\n",
       "      <td>10</td>\n",
       "      <td>100</td>\n",
       "      <td>1</td>\n",
       "      <td>1</td>\n",
       "      <td>1</td>\n",
       "      <td>6</td>\n",
       "      <td>50</td>\n",
       "      <td>75</td>\n",
       "      <td>50</td>\n",
       "    </tr>\n",
       "    <tr>\n",
       "      <th>6</th>\n",
       "      <td>3</td>\n",
       "      <td>14</td>\n",
       "      <td>19</td>\n",
       "      <td>16</td>\n",
       "      <td>100</td>\n",
       "      <td>100</td>\n",
       "      <td>1</td>\n",
       "      <td>1</td>\n",
       "      <td>1</td>\n",
       "      <td>9</td>\n",
       "      <td>500</td>\n",
       "      <td>25</td>\n",
       "      <td>100</td>\n",
       "    </tr>\n",
       "    <tr>\n",
       "      <th>7</th>\n",
       "      <td>3</td>\n",
       "      <td>14</td>\n",
       "      <td>19</td>\n",
       "      <td>16</td>\n",
       "      <td>100</td>\n",
       "      <td>100</td>\n",
       "      <td>3</td>\n",
       "      <td>1</td>\n",
       "      <td>1</td>\n",
       "      <td>9</td>\n",
       "      <td>50</td>\n",
       "      <td>100</td>\n",
       "      <td>25</td>\n",
       "    </tr>\n",
       "    <tr>\n",
       "      <th>8</th>\n",
       "      <td>1</td>\n",
       "      <td>19</td>\n",
       "      <td>19</td>\n",
       "      <td>15</td>\n",
       "      <td>100</td>\n",
       "      <td>100</td>\n",
       "      <td>4</td>\n",
       "      <td>1</td>\n",
       "      <td>2</td>\n",
       "      <td>9</td>\n",
       "      <td>500</td>\n",
       "      <td>25</td>\n",
       "      <td>100</td>\n",
       "    </tr>\n",
       "    <tr>\n",
       "      <th>9</th>\n",
       "      <td>2</td>\n",
       "      <td>12</td>\n",
       "      <td>19</td>\n",
       "      <td>15</td>\n",
       "      <td>10</td>\n",
       "      <td>100</td>\n",
       "      <td>5</td>\n",
       "      <td>1</td>\n",
       "      <td>2</td>\n",
       "      <td>9</td>\n",
       "      <td>200</td>\n",
       "      <td>75</td>\n",
       "      <td>50</td>\n",
       "    </tr>\n",
       "  </tbody>\n",
       "</table>\n",
       "</div>"
      ],
      "text/plain": [
       "   Target  Current code  Position code  Prev position code    D    E  \\\n",
       "0       1            16             16                  13   10  100   \n",
       "1       2            12             19                  16   10  100   \n",
       "2       2            15             13                  19  100   10   \n",
       "3       2            18             16                  13  100  100   \n",
       "4       3            11             16                  13   10  100   \n",
       "5       3            11             16                  13   10  100   \n",
       "6       3            14             19                  16  100  100   \n",
       "7       3            14             19                  16  100  100   \n",
       "8       1            19             19                  15  100  100   \n",
       "9       2            12             19                  15   10  100   \n",
       "\n",
       "   Position number  Temp pos  Prev pos  Temp  Class1  Class 2  Class 3  \n",
       "0                3         1         1     6     500      100       25  \n",
       "1                1         1         1     9     500      100       25  \n",
       "2                2         1         1     3      75       50       75  \n",
       "3                1         1         1     6     500       25      100  \n",
       "4                3         1         1     6     100      100       25  \n",
       "5                1         1         1     6      50       75       50  \n",
       "6                1         1         1     9     500       25      100  \n",
       "7                3         1         1     9      50      100       25  \n",
       "8                4         1         2     9     500       25      100  \n",
       "9                5         1         2     9     200       75       50  "
      ]
     },
     "execution_count": 2,
     "metadata": {},
     "output_type": "execute_result"
    }
   ],
   "source": [
    "csv_path = 'SUM FEB.csv'\n",
    "df = pd.read_csv(csv_path)\n",
    "\n",
    "#df['standard'] = df['standard'].astype(int)\n",
    "#df['target decimal']=df['target decimal'].astype(float)\n",
    "df.head(10)"
   ]
  },
  {
   "cell_type": "code",
   "execution_count": 3,
   "id": "8d3f442a",
   "metadata": {},
   "outputs": [
    {
     "name": "stdout",
     "output_type": "stream",
     "text": [
      "(83, 11)\n",
      "(83,)\n"
     ]
    }
   ],
   "source": [
    "X_cols = [#'Current code',\n",
    "          'Position code',\n",
    "          'Prev position code',\n",
    "          'D',\n",
    "          'E',\n",
    "          'Position number',\n",
    "          'Temp pos',\n",
    "          'Prev pos',\n",
    "          'Temp',\n",
    "          'Class1',\n",
    "          'Class 2',\n",
    "          'Class 3'\n",
    "          ]\n",
    "          \n",
    "\n",
    "y_cols = 'Target'\n",
    "\n",
    "X1 = df[X_cols]\n",
    "y1 = df[y_cols]\n",
    "print(X1.shape)\n",
    "print(y1.shape)"
   ]
  },
  {
   "cell_type": "code",
   "execution_count": 4,
   "id": "a73e1e33",
   "metadata": {},
   "outputs": [
    {
     "data": {
      "text/plain": [
       "array([1, 2, 2, 2, 3, 3, 3, 3, 1, 2, 2, 2, 2, 2, 2, 3, 3, 3, 3, 3, 1, 1,\n",
       "       2, 2, 2, 3, 3, 3, 1, 1, 2, 3, 1, 1, 1, 1, 2, 2, 3, 3, 3, 1, 1, 1,\n",
       "       2, 2, 2, 2, 2, 3, 3, 3, 3, 1, 1, 1, 1, 2, 2, 3, 3, 3, 1, 1, 2, 2,\n",
       "       3, 3, 3, 3, 3, 1, 1, 1, 2, 2, 2, 2, 2, 3, 3, 3, 3], dtype=int64)"
      ]
     },
     "execution_count": 4,
     "metadata": {},
     "output_type": "execute_result"
    }
   ],
   "source": [
    "y = df['Target'].to_numpy()\n",
    "y"
   ]
  },
  {
   "cell_type": "code",
   "execution_count": 5,
   "id": "b47c58f1",
   "metadata": {},
   "outputs": [
    {
     "data": {
      "text/plain": [
       "array([[ 0.53384221,  0.38742169, -0.64304368, -0.60125177,  0.83094965,\n",
       "        -1.00531903, -1.22559333, -1.43716775,  0.        ,  1.29398551,\n",
       "         1.21325341, -1.21325341],\n",
       "       [-1.02085615,  1.52233933,  0.52569994, -0.60125177,  0.83094965,\n",
       "        -1.80380209, -1.22559333, -1.43716775,  1.2174329 ,  1.29398551,\n",
       "         1.21325341, -1.21325341],\n",
       "       [ 0.14516762, -0.74749596,  1.69444357,  1.82650537, -1.27318387,\n",
       "        -1.40456056, -1.22559333, -1.43716775, -1.2174329 , -0.86930069,\n",
       "        -0.65156202,  0.65156202],\n",
       "       [ 1.31119138,  0.38742169, -0.64304368,  1.82650537,  0.83094965,\n",
       "        -1.80380209, -1.22559333, -1.43716775,  0.        ,  1.29398551,\n",
       "        -1.58396973,  1.58396973],\n",
       "       [-1.40953074,  0.38742169, -0.64304368, -0.60125177,  0.83094965,\n",
       "        -1.00531903, -1.22559333, -1.43716775,  0.        , -0.74204856,\n",
       "         1.21325341, -1.21325341],\n",
       "       [-1.40953074,  0.38742169, -0.64304368, -0.60125177,  0.83094965,\n",
       "        -1.80380209, -1.22559333, -1.43716775,  0.        , -0.99655282,\n",
       "         0.2808457 , -0.2808457 ],\n",
       "       [-0.24350697,  1.52233933,  0.52569994,  1.82650537,  0.83094965,\n",
       "        -1.80380209, -1.22559333, -1.43716775,  1.2174329 ,  1.29398551,\n",
       "        -1.58396973,  1.58396973],\n",
       "       [-0.24350697,  1.52233933,  0.52569994,  1.82650537,  0.83094965,\n",
       "        -1.00531903, -1.22559333, -1.43716775,  1.2174329 , -0.99655282,\n",
       "         1.21325341, -1.21325341],\n",
       "       [ 1.69986597,  1.52233933,  0.13611874,  1.82650537,  0.83094965,\n",
       "        -0.6060775 , -1.22559333, -0.1681792 ,  1.2174329 ,  1.29398551,\n",
       "        -1.58396973,  1.58396973],\n",
       "       [-1.02085615,  1.52233933,  0.13611874, -0.60125177,  0.83094965,\n",
       "        -0.20683597, -1.22559333, -0.1681792 ,  1.2174329 , -0.23304004,\n",
       "         0.2808457 , -0.2808457 ],\n",
       "       [ 0.14516762, -0.74749596,  1.30486236,  1.82650537, -1.27318387,\n",
       "        -0.20683597, -1.22559333, -0.1681792 , -1.2174329 , -0.99655282,\n",
       "         0.2808457 , -0.2808457 ],\n",
       "       [ 0.14516762, -0.74749596,  1.30486236, -0.60125177, -1.27318387,\n",
       "        -0.6060775 , -1.22559333, -0.1681792 , -1.2174329 ,  1.29398551,\n",
       "        -0.65156202,  0.65156202],\n",
       "       [ 0.14516762, -0.74749596,  1.30486236, -0.60125177, -1.27318387,\n",
       "        -0.20683597, -1.22559333, -0.1681792 , -1.2174329 , -0.99655282,\n",
       "         0.2808457 , -0.2808457 ],\n",
       "       [ 1.31119138,  0.38742169, -1.03262489, -0.33150097,  0.83094965,\n",
       "         0.19240556, -1.22559333, -0.1681792 ,  0.        , -0.74204856,\n",
       "         1.21325341, -1.21325341],\n",
       "       [ 1.31119138,  0.38742169, -1.03262489, -0.60125177, -1.27318387,\n",
       "        -0.20683597, -1.22559333, -0.1681792 ,  0.        , -0.99655282,\n",
       "         0.2808457 , -0.2808457 ],\n",
       "       [-1.40953074,  0.38742169, -1.03262489,  1.82650537,  0.83094965,\n",
       "        -0.6060775 , -1.22559333, -0.1681792 ,  0.        ,  1.29398551,\n",
       "        -1.58396973,  1.58396973],\n",
       "       [-0.24350697,  1.52233933,  0.13611874, -0.60125177, -1.27318387,\n",
       "        -0.20683597, -1.22559333, -0.1681792 ,  1.2174329 , -0.99655282,\n",
       "         0.2808457 , -0.2808457 ],\n",
       "       [-0.24350697,  1.52233933,  0.13611874, -0.60125177, -1.27318387,\n",
       "        -0.20683597, -1.22559333, -0.1681792 ,  1.2174329 , -0.99655282,\n",
       "         0.2808457 , -0.2808457 ],\n",
       "       [ 0.92251679, -0.74749596,  1.30486236, -0.60125177, -1.03939126,\n",
       "         0.19240556, -1.22559333, -0.1681792 , -1.2174329 , -0.23304004,\n",
       "         0.2808457 , -0.2808457 ],\n",
       "       [ 0.92251679, -0.74749596,  1.30486236, -0.60125177, -1.03939126,\n",
       "         0.19240556, -1.22559333, -0.1681792 , -1.2174329 , -0.86930069,\n",
       "         0.2808457 , -0.2808457 ],\n",
       "       [ 1.69986597,  1.52233933, -0.25346247, -0.33150097,  0.83094965,\n",
       "         1.39013015, -1.22559333,  1.10080934,  1.2174329 , -0.23304004,\n",
       "         1.21325341, -1.21325341],\n",
       "       [ 1.69986597,  1.52233933, -0.25346247, -0.60125177, -1.27318387,\n",
       "         1.39013015, -1.22559333,  1.10080934,  1.2174329 , -0.86930069,\n",
       "        -0.65156202,  0.65156202],\n",
       "       [-1.02085615,  1.52233933, -0.25346247,  1.82650537,  0.83094965,\n",
       "         0.99088862, -1.22559333,  1.10080934,  1.2174329 ,  1.29398551,\n",
       "         1.21325341, -1.21325341],\n",
       "       [ 1.31119138,  0.38742169, -1.4222061 , -0.60125177,  0.83094965,\n",
       "         1.39013015, -1.22559333,  1.10080934,  0.        , -0.86930069,\n",
       "         1.21325341, -1.21325341],\n",
       "       [ 1.31119138,  0.38742169, -1.4222061 , -0.60125177,  0.83094965,\n",
       "         0.99088862, -1.22559333,  1.10080934,  0.        , -0.74204856,\n",
       "        -1.58396973,  1.58396973],\n",
       "       [-1.40953074,  0.38742169, -1.4222061 , -0.33150097,  0.83094965,\n",
       "         1.39013015, -1.22559333,  1.10080934,  0.        ,  1.29398551,\n",
       "         1.21325341, -1.21325341],\n",
       "       [-1.40953074,  0.38742169, -1.4222061 , -0.60125177, -1.03939126,\n",
       "         0.99088862, -1.22559333,  1.10080934,  0.        , -0.86930069,\n",
       "        -0.65156202,  0.65156202],\n",
       "       [ 0.92251679, -0.74749596,  0.91528115,  1.82650537,  0.83094965,\n",
       "         0.59164709, -1.22559333,  1.10080934, -1.2174329 ,  1.29398551,\n",
       "        -1.58396973,  1.58396973],\n",
       "       [-0.63218156,  0.0091158 ,  1.69444357, -0.60125177,  0.83094965,\n",
       "        -1.40456056, -0.02883749, -1.43716775,  0.        ,  1.29398551,\n",
       "         0.2808457 , -0.2808457 ],\n",
       "       [-0.63218156,  0.0091158 ,  1.69444357,  1.82650537,  0.83094965,\n",
       "        -1.00531903, -0.02883749, -1.43716775,  0.        ,  1.29398551,\n",
       "         0.2808457 , -0.2808457 ],\n",
       "       [-1.02085615, -1.12580184,  0.52569994,  1.82650537,  0.83094965,\n",
       "        -1.80380209, -0.02883749, -1.43716775, -1.2174329 ,  1.29398551,\n",
       "        -1.58396973,  1.58396973],\n",
       "       [ 0.92251679,  0.0091158 ,  1.69444357, -0.60125177,  0.83094965,\n",
       "        -1.00531903, -0.02883749, -1.43716775,  0.        ,  1.29398551,\n",
       "         1.21325341, -1.21325341],\n",
       "       [-0.63218156,  0.0091158 ,  1.30486236, -0.60125177,  0.83094965,\n",
       "        -0.20683597, -0.02883749, -0.1681792 ,  0.        , -0.23304004,\n",
       "         0.2808457 , -0.2808457 ],\n",
       "       [-0.63218156,  0.0091158 ,  1.30486236, -0.60125177,  0.83094965,\n",
       "        -0.20683597, -0.02883749, -0.1681792 ,  0.        ,  1.29398551,\n",
       "         1.21325341, -1.21325341],\n",
       "       [ 0.53384221,  1.14403345, -1.03262489, -0.60125177,  0.83094965,\n",
       "        -0.6060775 , -0.02883749, -0.1681792 ,  1.2174329 , -0.23304004,\n",
       "        -1.58396973,  1.58396973],\n",
       "       [ 1.69986597, -1.12580184,  0.13611874, -0.60125177, -1.27318387,\n",
       "         0.19240556, -0.02883749, -0.1681792 , -1.2174329 ,  1.29398551,\n",
       "         0.2808457 , -0.2808457 ],\n",
       "       [ 1.31119138,  1.14403345, -1.03262489, -0.33150097,  0.83094965,\n",
       "         0.19240556, -0.02883749, -0.1681792 ,  1.2174329 ,  1.29398551,\n",
       "         1.21325341, -1.21325341],\n",
       "       [ 1.31119138,  1.14403345, -1.03262489, -0.33150097,  0.83094965,\n",
       "         0.19240556, -0.02883749, -0.1681792 ,  1.2174329 ,  1.29398551,\n",
       "         1.21325341, -1.21325341],\n",
       "       [-1.40953074,  1.14403345, -1.03262489, -0.60125177, -1.03939126,\n",
       "         0.19240556, -0.02883749, -0.1681792 ,  1.2174329 , -0.86930069,\n",
       "         1.21325341, -1.21325341],\n",
       "       [-1.40953074,  1.14403345, -1.03262489, -0.60125177, -1.03939126,\n",
       "         0.19240556, -0.02883749, -0.1681792 ,  1.2174329 , -0.99655282,\n",
       "         0.2808457 , -0.2808457 ],\n",
       "       [-0.24350697, -1.12580184,  0.13611874, -0.33150097,  0.83094965,\n",
       "        -0.6060775 , -0.02883749, -0.1681792 , -1.2174329 ,  1.29398551,\n",
       "         1.21325341, -1.21325341],\n",
       "       [ 0.53384221,  1.14403345, -1.4222061 , -0.60125177, -1.27318387,\n",
       "         1.39013015, -0.02883749,  1.10080934,  1.2174329 , -0.99655282,\n",
       "        -0.65156202,  0.65156202],\n",
       "       [ 1.69986597, -1.12580184, -0.25346247,  1.82650537,  0.83094965,\n",
       "         1.39013015, -0.02883749,  1.10080934, -1.2174329 , -0.23304004,\n",
       "         1.21325341, -1.21325341],\n",
       "       [ 1.69986597, -1.12580184, -0.25346247, -0.60125177,  0.83094965,\n",
       "         0.59164709, -0.02883749,  1.10080934, -1.2174329 , -0.23304004,\n",
       "        -1.58396973,  1.58396973],\n",
       "       [-1.02085615, -1.12580184, -0.25346247, -0.60125177, -1.27318387,\n",
       "         1.39013015, -0.02883749,  1.10080934, -1.2174329 , -0.99655282,\n",
       "        -0.65156202,  0.65156202],\n",
       "       [-1.02085615, -1.12580184, -0.25346247,  1.82650537, -1.27318387,\n",
       "         0.59164709, -0.02883749,  1.10080934, -1.2174329 , -0.99655282,\n",
       "         0.2808457 , -0.2808457 ],\n",
       "       [-1.02085615, -1.12580184, -0.25346247, -0.60125177,  0.83094965,\n",
       "         0.99088862, -0.02883749,  1.10080934, -1.2174329 , -0.23304004,\n",
       "        -1.58396973,  1.58396973],\n",
       "       [-1.02085615, -1.12580184, -0.25346247, -0.60125177, -1.27318387,\n",
       "         0.99088862, -0.02883749,  1.10080934, -1.2174329 , -0.74204856,\n",
       "        -0.65156202,  0.65156202],\n",
       "       [ 0.14516762,  0.0091158 ,  0.91528115,  1.82650537,  0.83094965,\n",
       "         0.99088862, -0.02883749,  1.10080934,  0.        ,  1.29398551,\n",
       "         1.21325341, -1.21325341],\n",
       "       [-1.40953074,  1.14403345, -1.4222061 , -0.60125177, -1.27318387,\n",
       "         0.59164709, -0.02883749,  1.10080934,  1.2174329 , -0.74204856,\n",
       "        -0.65156202,  0.65156202],\n",
       "       [-1.40953074,  1.14403345, -1.4222061 , -0.33150097, -1.03939126,\n",
       "         0.99088862, -0.02883749,  1.10080934,  1.2174329 , -0.86930069,\n",
       "         0.2808457 , -0.2808457 ],\n",
       "       [-0.24350697, -1.12580184, -0.25346247,  1.82650537,  0.83094965,\n",
       "         0.99088862, -0.02883749,  1.10080934, -1.2174329 ,  1.29398551,\n",
       "         0.2808457 , -0.2808457 ],\n",
       "       [-0.24350697, -1.12580184, -0.25346247, -0.60125177,  0.83094965,\n",
       "         1.39013015, -0.02883749,  1.10080934, -1.2174329 , -0.74204856,\n",
       "        -1.58396973,  1.58396973],\n",
       "       [-0.63218156,  0.76572757,  1.69444357, -0.33150097,  0.83094965,\n",
       "        -1.40456056,  1.16791835, -1.43716775,  1.2174329 ,  1.29398551,\n",
       "         0.2808457 , -0.2808457 ],\n",
       "       [-0.63218156,  0.76572757,  1.69444357, -0.60125177,  0.83094965,\n",
       "        -1.00531903,  1.16791835, -1.43716775,  1.2174329 , -0.86930069,\n",
       "         1.21325341, -1.21325341],\n",
       "       [ 0.53384221, -1.50410772, -0.64304368,  1.82650537, -1.27318387,\n",
       "        -1.40456056,  1.16791835, -1.43716775, -1.2174329 , -0.74204856,\n",
       "         0.2808457 , -0.2808457 ],\n",
       "       [ 0.53384221, -1.50410772, -0.64304368, -0.60125177, -1.27318387,\n",
       "        -1.80380209,  1.16791835, -1.43716775, -1.2174329 ,  1.29398551,\n",
       "         0.2808457 , -0.2808457 ],\n",
       "       [ 0.14516762,  0.76572757,  1.69444357, -0.60125177,  0.83094965,\n",
       "        -1.00531903,  1.16791835, -1.43716775,  1.2174329 ,  1.29398551,\n",
       "         1.21325341, -1.21325341],\n",
       "       [ 1.31119138, -1.50410772, -0.64304368, -0.60125177, -1.27318387,\n",
       "        -1.40456056,  1.16791835, -1.43716775, -1.2174329 , -0.74204856,\n",
       "         0.2808457 , -0.2808457 ],\n",
       "       [-1.40953074, -1.50410772, -0.64304368, -0.33150097, -1.03939126,\n",
       "        -1.80380209,  1.16791835, -1.43716775, -1.2174329 , -0.23304004,\n",
       "        -0.65156202,  0.65156202],\n",
       "       [-0.24350697, -0.36919008,  0.52569994, -0.60125177, -1.03939126,\n",
       "        -1.40456056,  1.16791835, -1.43716775,  0.        , -0.86930069,\n",
       "         0.2808457 , -0.2808457 ],\n",
       "       [-0.24350697, -0.36919008,  0.52569994, -0.60125177, -1.03939126,\n",
       "        -1.00531903,  1.16791835, -1.43716775,  0.        , -0.86930069,\n",
       "         0.2808457 , -0.2808457 ],\n",
       "       [-0.63218156,  0.76572757,  1.30486236, -0.60125177,  0.83094965,\n",
       "         0.19240556,  1.16791835, -0.1681792 ,  1.2174329 , -0.86930069,\n",
       "         0.2808457 , -0.2808457 ],\n",
       "       [ 1.69986597, -0.36919008,  0.13611874, -0.60125177,  0.83094965,\n",
       "        -0.20683597,  1.16791835, -0.1681792 ,  0.        ,  1.29398551,\n",
       "        -1.58396973,  1.58396973],\n",
       "       [ 0.14516762,  0.76572757,  1.30486236, -0.33150097,  0.83094965,\n",
       "         0.19240556,  1.16791835, -0.1681792 ,  1.2174329 ,  1.29398551,\n",
       "         1.21325341, -1.21325341],\n",
       "       [ 0.14516762,  0.76572757,  1.30486236, -0.60125177,  0.83094965,\n",
       "         0.19240556,  1.16791835, -0.1681792 ,  1.2174329 , -0.74204856,\n",
       "         0.2808457 , -0.2808457 ],\n",
       "       [-1.40953074, -1.50410772, -1.03262489, -0.60125177,  0.83094965,\n",
       "         0.19240556,  1.16791835, -0.1681792 , -1.2174329 , -0.99655282,\n",
       "         1.21325341, -1.21325341],\n",
       "       [-0.24350697, -0.36919008,  0.13611874,  1.82650537,  0.83094965,\n",
       "        -0.6060775 ,  1.16791835, -0.1681792 ,  0.        ,  1.29398551,\n",
       "        -1.58396973,  1.58396973],\n",
       "       [-0.24350697, -0.36919008,  0.13611874, -0.60125177, -1.27318387,\n",
       "         0.19240556,  1.16791835, -0.1681792 ,  0.        , -0.86930069,\n",
       "         0.2808457 , -0.2808457 ],\n",
       "       [-0.24350697, -0.36919008,  0.13611874, -0.60125177, -1.27318387,\n",
       "        -0.20683597,  1.16791835, -0.1681792 ,  0.        , -0.99655282,\n",
       "         0.2808457 , -0.2808457 ],\n",
       "       [ 0.92251679,  0.76572757,  1.30486236, -0.60125177, -1.27318387,\n",
       "        -0.6060775 ,  1.16791835, -0.1681792 ,  1.2174329 , -0.74204856,\n",
       "        -0.65156202,  0.65156202],\n",
       "       [-0.63218156,  0.76572757,  0.91528115,  1.82650537, -1.03939126,\n",
       "         0.99088862,  1.16791835,  1.10080934,  1.2174329 , -0.74204856,\n",
       "         0.2808457 , -0.2808457 ],\n",
       "       [-0.63218156,  0.76572757,  0.91528115, -0.60125177, -1.03939126,\n",
       "         0.99088862,  1.16791835,  1.10080934,  1.2174329 , -0.74204856,\n",
       "        -0.65156202,  0.65156202],\n",
       "       [ 0.53384221, -1.50410772, -1.4222061 , -0.33150097,  0.83094965,\n",
       "         1.39013015,  1.16791835,  1.10080934, -1.2174329 ,  1.29398551,\n",
       "        -1.58396973,  1.58396973],\n",
       "       [-1.02085615, -0.36919008, -0.25346247, -0.60125177,  0.83094965,\n",
       "         0.59164709,  1.16791835,  1.10080934,  0.        , -0.23304004,\n",
       "        -1.58396973,  1.58396973],\n",
       "       [ 0.14516762,  0.76572757,  0.91528115, -0.60125177,  0.83094965,\n",
       "         1.39013015,  1.16791835,  1.10080934,  1.2174329 ,  1.29398551,\n",
       "        -0.65156202,  0.65156202],\n",
       "       [ 1.31119138, -1.50410772, -1.4222061 ,  1.82650537,  0.83094965,\n",
       "         0.99088862,  1.16791835,  1.10080934, -1.2174329 ,  1.29398551,\n",
       "         0.2808457 , -0.2808457 ],\n",
       "       [ 1.31119138, -1.50410772, -1.4222061 , -0.60125177,  0.83094965,\n",
       "         0.59164709,  1.16791835,  1.10080934, -1.2174329 , -0.23304004,\n",
       "        -1.58396973,  1.58396973],\n",
       "       [ 1.31119138, -1.50410772, -1.4222061 , -0.60125177,  0.83094965,\n",
       "         0.59164709,  1.16791835,  1.10080934, -1.2174329 , -0.23304004,\n",
       "        -1.58396973,  1.58396973],\n",
       "       [-1.40953074, -1.50410772, -1.4222061 , -0.60125177, -1.27318387,\n",
       "         1.39013015,  1.16791835,  1.10080934, -1.2174329 , -0.99655282,\n",
       "        -0.65156202,  0.65156202],\n",
       "       [-0.24350697, -0.36919008, -0.25346247, -0.33150097, -1.27318387,\n",
       "         0.99088862,  1.16791835,  1.10080934,  0.        , -0.99655282,\n",
       "         0.2808457 , -0.2808457 ],\n",
       "       [-0.24350697, -0.36919008, -0.25346247, -0.33150097, -1.27318387,\n",
       "         0.99088862,  1.16791835,  1.10080934,  0.        , -0.99655282,\n",
       "         0.2808457 , -0.2808457 ],\n",
       "       [-0.24350697, -0.36919008, -0.25346247, -0.33150097,  0.83094965,\n",
       "         0.59164709,  1.16791835,  1.10080934,  0.        , -0.74204856,\n",
       "         1.21325341, -1.21325341]])"
      ]
     },
     "execution_count": 5,
     "metadata": {},
     "output_type": "execute_result"
    }
   ],
   "source": [
    "X = df.drop(['Target'],axis=1)\n",
    "transform = preprocessing.StandardScaler()\n",
    "X = transform.fit_transform(X)\n",
    "X"
   ]
  },
  {
   "cell_type": "code",
   "execution_count": 6,
   "id": "07e36290",
   "metadata": {},
   "outputs": [],
   "source": [
    "X_train, X_test, y_train, y_test = train_test_split(X, y, test_size=0.30, random_state=101)"
   ]
  },
  {
   "cell_type": "code",
   "execution_count": 10,
   "id": "b721716d",
   "metadata": {},
   "outputs": [
    {
     "data": {
      "text/plain": [
       "(25,)"
      ]
     },
     "execution_count": 10,
     "metadata": {},
     "output_type": "execute_result"
    }
   ],
   "source": [
    "y_test.shape"
   ]
  },
  {
   "cell_type": "code",
   "execution_count": 69,
   "id": "0d177163",
   "metadata": {},
   "outputs": [
    {
     "data": {
      "text/html": [
       "<style>#sk-container-id-16 {color: black;}#sk-container-id-16 pre{padding: 0;}#sk-container-id-16 div.sk-toggleable {background-color: white;}#sk-container-id-16 label.sk-toggleable__label {cursor: pointer;display: block;width: 100%;margin-bottom: 0;padding: 0.3em;box-sizing: border-box;text-align: center;}#sk-container-id-16 label.sk-toggleable__label-arrow:before {content: \"▸\";float: left;margin-right: 0.25em;color: #696969;}#sk-container-id-16 label.sk-toggleable__label-arrow:hover:before {color: black;}#sk-container-id-16 div.sk-estimator:hover label.sk-toggleable__label-arrow:before {color: black;}#sk-container-id-16 div.sk-toggleable__content {max-height: 0;max-width: 0;overflow: hidden;text-align: left;background-color: #f0f8ff;}#sk-container-id-16 div.sk-toggleable__content pre {margin: 0.2em;color: black;border-radius: 0.25em;background-color: #f0f8ff;}#sk-container-id-16 input.sk-toggleable__control:checked~div.sk-toggleable__content {max-height: 200px;max-width: 100%;overflow: auto;}#sk-container-id-16 input.sk-toggleable__control:checked~label.sk-toggleable__label-arrow:before {content: \"▾\";}#sk-container-id-16 div.sk-estimator input.sk-toggleable__control:checked~label.sk-toggleable__label {background-color: #d4ebff;}#sk-container-id-16 div.sk-label input.sk-toggleable__control:checked~label.sk-toggleable__label {background-color: #d4ebff;}#sk-container-id-16 input.sk-hidden--visually {border: 0;clip: rect(1px 1px 1px 1px);clip: rect(1px, 1px, 1px, 1px);height: 1px;margin: -1px;overflow: hidden;padding: 0;position: absolute;width: 1px;}#sk-container-id-16 div.sk-estimator {font-family: monospace;background-color: #f0f8ff;border: 1px dotted black;border-radius: 0.25em;box-sizing: border-box;margin-bottom: 0.5em;}#sk-container-id-16 div.sk-estimator:hover {background-color: #d4ebff;}#sk-container-id-16 div.sk-parallel-item::after {content: \"\";width: 100%;border-bottom: 1px solid gray;flex-grow: 1;}#sk-container-id-16 div.sk-label:hover label.sk-toggleable__label {background-color: #d4ebff;}#sk-container-id-16 div.sk-serial::before {content: \"\";position: absolute;border-left: 1px solid gray;box-sizing: border-box;top: 0;bottom: 0;left: 50%;z-index: 0;}#sk-container-id-16 div.sk-serial {display: flex;flex-direction: column;align-items: center;background-color: white;padding-right: 0.2em;padding-left: 0.2em;position: relative;}#sk-container-id-16 div.sk-item {position: relative;z-index: 1;}#sk-container-id-16 div.sk-parallel {display: flex;align-items: stretch;justify-content: center;background-color: white;position: relative;}#sk-container-id-16 div.sk-item::before, #sk-container-id-16 div.sk-parallel-item::before {content: \"\";position: absolute;border-left: 1px solid gray;box-sizing: border-box;top: 0;bottom: 0;left: 50%;z-index: -1;}#sk-container-id-16 div.sk-parallel-item {display: flex;flex-direction: column;z-index: 1;position: relative;background-color: white;}#sk-container-id-16 div.sk-parallel-item:first-child::after {align-self: flex-end;width: 50%;}#sk-container-id-16 div.sk-parallel-item:last-child::after {align-self: flex-start;width: 50%;}#sk-container-id-16 div.sk-parallel-item:only-child::after {width: 0;}#sk-container-id-16 div.sk-dashed-wrapped {border: 1px dashed gray;margin: 0 0.4em 0.5em 0.4em;box-sizing: border-box;padding-bottom: 0.4em;background-color: white;}#sk-container-id-16 div.sk-label label {font-family: monospace;font-weight: bold;display: inline-block;line-height: 1.2em;}#sk-container-id-16 div.sk-label-container {text-align: center;}#sk-container-id-16 div.sk-container {/* jupyter's `normalize.less` sets `[hidden] { display: none; }` but bootstrap.min.css set `[hidden] { display: none !important; }` so we also need the `!important` here to be able to override the default hidden behavior on the sphinx rendered scikit-learn.org. See: https://github.com/scikit-learn/scikit-learn/issues/21755 */display: inline-block !important;position: relative;}#sk-container-id-16 div.sk-text-repr-fallback {display: none;}</style><div id=\"sk-container-id-16\" class=\"sk-top-container\"><div class=\"sk-text-repr-fallback\"><pre>GridSearchCV(cv=10, estimator=LogisticRegression(),\n",
       "             param_grid={&#x27;C&#x27;: [0.01], &#x27;multi_class&#x27;: [&#x27;multinomial&#x27;],\n",
       "                         &#x27;penalty&#x27;: [&#x27;l2&#x27;], &#x27;solver&#x27;: [&#x27;lbfgs&#x27;]})</pre><b>In a Jupyter environment, please rerun this cell to show the HTML representation or trust the notebook. <br />On GitHub, the HTML representation is unable to render, please try loading this page with nbviewer.org.</b></div><div class=\"sk-container\" hidden><div class=\"sk-item sk-dashed-wrapped\"><div class=\"sk-label-container\"><div class=\"sk-label sk-toggleable\"><input class=\"sk-toggleable__control sk-hidden--visually\" id=\"sk-estimator-id-46\" type=\"checkbox\" ><label for=\"sk-estimator-id-46\" class=\"sk-toggleable__label sk-toggleable__label-arrow\">GridSearchCV</label><div class=\"sk-toggleable__content\"><pre>GridSearchCV(cv=10, estimator=LogisticRegression(),\n",
       "             param_grid={&#x27;C&#x27;: [0.01], &#x27;multi_class&#x27;: [&#x27;multinomial&#x27;],\n",
       "                         &#x27;penalty&#x27;: [&#x27;l2&#x27;], &#x27;solver&#x27;: [&#x27;lbfgs&#x27;]})</pre></div></div></div><div class=\"sk-parallel\"><div class=\"sk-parallel-item\"><div class=\"sk-item\"><div class=\"sk-label-container\"><div class=\"sk-label sk-toggleable\"><input class=\"sk-toggleable__control sk-hidden--visually\" id=\"sk-estimator-id-47\" type=\"checkbox\" ><label for=\"sk-estimator-id-47\" class=\"sk-toggleable__label sk-toggleable__label-arrow\">estimator: LogisticRegression</label><div class=\"sk-toggleable__content\"><pre>LogisticRegression()</pre></div></div></div><div class=\"sk-serial\"><div class=\"sk-item\"><div class=\"sk-estimator sk-toggleable\"><input class=\"sk-toggleable__control sk-hidden--visually\" id=\"sk-estimator-id-48\" type=\"checkbox\" ><label for=\"sk-estimator-id-48\" class=\"sk-toggleable__label sk-toggleable__label-arrow\">LogisticRegression</label><div class=\"sk-toggleable__content\"><pre>LogisticRegression()</pre></div></div></div></div></div></div></div></div></div></div>"
      ],
      "text/plain": [
       "GridSearchCV(cv=10, estimator=LogisticRegression(),\n",
       "             param_grid={'C': [0.01], 'multi_class': ['multinomial'],\n",
       "                         'penalty': ['l2'], 'solver': ['lbfgs']})"
      ]
     },
     "execution_count": 69,
     "metadata": {},
     "output_type": "execute_result"
    }
   ],
   "source": [
    "parameters ={\"C\":[0.01],'penalty':[\"l2\"], 'solver':['lbfgs'], 'multi_class':['multinomial']}\n",
    "lr=LogisticRegression()\n",
    "logreg_cv = GridSearchCV(lr, parameters, cv=10)\n",
    "logreg_cv.fit(X_train, y_train)\n"
   ]
  },
  {
   "cell_type": "code",
   "execution_count": 70,
   "id": "bf16658d",
   "metadata": {},
   "outputs": [
    {
     "name": "stdout",
     "output_type": "stream",
     "text": [
      "tuned hpyerparameters :(best parameters)  {'C': 0.01, 'multi_class': 'multinomial', 'penalty': 'l2', 'solver': 'lbfgs'}\n",
      "accuracy : 46.99999999999999 %\n"
     ]
    }
   ],
   "source": [
    "print(\"tuned hpyerparameters :(best parameters) \",logreg_cv.best_params_)\n",
    "print(\"accuracy :\",logreg_cv.best_score_*100, \"%\")\n",
    "y_predict = logreg_cv.best_params_"
   ]
  },
  {
   "cell_type": "code",
   "execution_count": 93,
   "id": "c0496f82",
   "metadata": {},
   "outputs": [
    {
     "name": "stdout",
     "output_type": "stream",
     "text": [
      "   mean_fit_time  std_fit_time  mean_score_time  std_score_time param_C  \\\n",
      "0       0.009613      0.005034         0.002988        0.004062    0.01   \n",
      "\n",
      "  param_multi_class param_penalty param_solver  \\\n",
      "0       multinomial            l2        lbfgs   \n",
      "\n",
      "                                              params  split0_test_score  ...  \\\n",
      "0  {'C': 0.01, 'multi_class': 'multinomial', 'pen...                0.5  ...   \n",
      "\n",
      "   split3_test_score  split4_test_score  split5_test_score  split6_test_score  \\\n",
      "0                0.5                0.5                0.5                0.5   \n",
      "\n",
      "   split7_test_score  split8_test_score  split9_test_score  mean_test_score  \\\n",
      "0                0.5                0.6                0.6             0.47   \n",
      "\n",
      "   std_test_score  rank_test_score  \n",
      "0        0.122429                1  \n",
      "\n",
      "[1 rows x 22 columns]\n"
     ]
    }
   ],
   "source": [
    "results = pd.DataFrame(logreg_cv.cv_results_)\n",
    "print(results.head())"
   ]
  },
  {
   "cell_type": "code",
   "execution_count": 76,
   "id": "2f88b10c",
   "metadata": {},
   "outputs": [
    {
     "data": {
      "image/png": "[encoded data removed]",
      "text/plain": [
       "<Figure size 640x480 with 2 Axes>"
      ]
     },
     "metadata": {},
     "output_type": "display_data"
    }
   ],
   "source": [
    "def plot_confusion_matrix(y,y_predict):\n",
    "    from sklearn.metrics import confusion_matrix\n",
    "\n",
    "    cm = confusion_matrix(y_test, y_predict)\n",
    "    ax= plt.subplot()\n",
    "    sns.heatmap(cm, annot=True, ax = ax); #annot=True to annotate cells\n",
    "    ax.set_xlabel('Predicted labels')\n",
    "    ax.set_ylabel('True labels')\n",
    "    ax.set_title('Confusion Matrix'); \n",
    "    ax.xaxis.set_ticklabels(['low','mid','high']); ax.yaxis.set_ticklabels(['low','mid','high']) \n",
    "    plt.show()\n",
    "    \n",
    "yhat=logreg_cv.predict(X_test)\n",
    "plot_confusion_matrix(y_test,yhat)"
   ]
  },
  {
   "cell_type": "code",
   "execution_count": 100,
   "id": "5a905604",
   "metadata": {},
   "outputs": [],
   "source": [
    "parameters = {'kernel':('linear', 'rbf','poly','rbf','sigmoid'),\n",
    "              'C': np.logspace(-3, 3, 13),\n",
    "              'gamma':np.logspace(-3, 3, 5)}\n",
    "svm1 = SVC()"
   ]
  },
  {
   "cell_type": "code",
   "execution_count": 101,
   "id": "15f2d0f2",
   "metadata": {},
   "outputs": [
    {
     "data": {
      "text/html": [
       "<style>#sk-container-id-19 {color: black;}#sk-container-id-19 pre{padding: 0;}#sk-container-id-19 div.sk-toggleable {background-color: white;}#sk-container-id-19 label.sk-toggleable__label {cursor: pointer;display: block;width: 100%;margin-bottom: 0;padding: 0.3em;box-sizing: border-box;text-align: center;}#sk-container-id-19 label.sk-toggleable__label-arrow:before {content: \"▸\";float: left;margin-right: 0.25em;color: #696969;}#sk-container-id-19 label.sk-toggleable__label-arrow:hover:before {color: black;}#sk-container-id-19 div.sk-estimator:hover label.sk-toggleable__label-arrow:before {color: black;}#sk-container-id-19 div.sk-toggleable__content {max-height: 0;max-width: 0;overflow: hidden;text-align: left;background-color: #f0f8ff;}#sk-container-id-19 div.sk-toggleable__content pre {margin: 0.2em;color: black;border-radius: 0.25em;background-color: #f0f8ff;}#sk-container-id-19 input.sk-toggleable__control:checked~div.sk-toggleable__content {max-height: 200px;max-width: 100%;overflow: auto;}#sk-container-id-19 input.sk-toggleable__control:checked~label.sk-toggleable__label-arrow:before {content: \"▾\";}#sk-container-id-19 div.sk-estimator input.sk-toggleable__control:checked~label.sk-toggleable__label {background-color: #d4ebff;}#sk-container-id-19 div.sk-label input.sk-toggleable__control:checked~label.sk-toggleable__label {background-color: #d4ebff;}#sk-container-id-19 input.sk-hidden--visually {border: 0;clip: rect(1px 1px 1px 1px);clip: rect(1px, 1px, 1px, 1px);height: 1px;margin: -1px;overflow: hidden;padding: 0;position: absolute;width: 1px;}#sk-container-id-19 div.sk-estimator {font-family: monospace;background-color: #f0f8ff;border: 1px dotted black;border-radius: 0.25em;box-sizing: border-box;margin-bottom: 0.5em;}#sk-container-id-19 div.sk-estimator:hover {background-color: #d4ebff;}#sk-container-id-19 div.sk-parallel-item::after {content: \"\";width: 100%;border-bottom: 1px solid gray;flex-grow: 1;}#sk-container-id-19 div.sk-label:hover label.sk-toggleable__label {background-color: #d4ebff;}#sk-container-id-19 div.sk-serial::before {content: \"\";position: absolute;border-left: 1px solid gray;box-sizing: border-box;top: 0;bottom: 0;left: 50%;z-index: 0;}#sk-container-id-19 div.sk-serial {display: flex;flex-direction: column;align-items: center;background-color: white;padding-right: 0.2em;padding-left: 0.2em;position: relative;}#sk-container-id-19 div.sk-item {position: relative;z-index: 1;}#sk-container-id-19 div.sk-parallel {display: flex;align-items: stretch;justify-content: center;background-color: white;position: relative;}#sk-container-id-19 div.sk-item::before, #sk-container-id-19 div.sk-parallel-item::before {content: \"\";position: absolute;border-left: 1px solid gray;box-sizing: border-box;top: 0;bottom: 0;left: 50%;z-index: -1;}#sk-container-id-19 div.sk-parallel-item {display: flex;flex-direction: column;z-index: 1;position: relative;background-color: white;}#sk-container-id-19 div.sk-parallel-item:first-child::after {align-self: flex-end;width: 50%;}#sk-container-id-19 div.sk-parallel-item:last-child::after {align-self: flex-start;width: 50%;}#sk-container-id-19 div.sk-parallel-item:only-child::after {width: 0;}#sk-container-id-19 div.sk-dashed-wrapped {border: 1px dashed gray;margin: 0 0.4em 0.5em 0.4em;box-sizing: border-box;padding-bottom: 0.4em;background-color: white;}#sk-container-id-19 div.sk-label label {font-family: monospace;font-weight: bold;display: inline-block;line-height: 1.2em;}#sk-container-id-19 div.sk-label-container {text-align: center;}#sk-container-id-19 div.sk-container {/* jupyter's `normalize.less` sets `[hidden] { display: none; }` but bootstrap.min.css set `[hidden] { display: none !important; }` so we also need the `!important` here to be able to override the default hidden behavior on the sphinx rendered scikit-learn.org. See: https://github.com/scikit-learn/scikit-learn/issues/21755 */display: inline-block !important;position: relative;}#sk-container-id-19 div.sk-text-repr-fallback {display: none;}</style><div id=\"sk-container-id-19\" class=\"sk-top-container\"><div class=\"sk-text-repr-fallback\"><pre>GridSearchCV(cv=10, estimator=SVC(),\n",
       "             param_grid={&#x27;C&#x27;: array([1.00000000e-03, 3.16227766e-03, 1.00000000e-02, 3.16227766e-02,\n",
       "       1.00000000e-01, 3.16227766e-01, 1.00000000e+00, 3.16227766e+00,\n",
       "       1.00000000e+01, 3.16227766e+01, 1.00000000e+02, 3.16227766e+02,\n",
       "       1.00000000e+03]),\n",
       "                         &#x27;gamma&#x27;: array([1.00000000e-03, 3.16227766e-02, 1.00000000e+00, 3.16227766e+01,\n",
       "       1.00000000e+03]),\n",
       "                         &#x27;kernel&#x27;: (&#x27;linear&#x27;, &#x27;rbf&#x27;, &#x27;poly&#x27;, &#x27;rbf&#x27;, &#x27;sigmoid&#x27;)})</pre><b>In a Jupyter environment, please rerun this cell to show the HTML representation or trust the notebook. <br />On GitHub, the HTML representation is unable to render, please try loading this page with nbviewer.org.</b></div><div class=\"sk-container\" hidden><div class=\"sk-item sk-dashed-wrapped\"><div class=\"sk-label-container\"><div class=\"sk-label sk-toggleable\"><input class=\"sk-toggleable__control sk-hidden--visually\" id=\"sk-estimator-id-55\" type=\"checkbox\" ><label for=\"sk-estimator-id-55\" class=\"sk-toggleable__label sk-toggleable__label-arrow\">GridSearchCV</label><div class=\"sk-toggleable__content\"><pre>GridSearchCV(cv=10, estimator=SVC(),\n",
       "             param_grid={&#x27;C&#x27;: array([1.00000000e-03, 3.16227766e-03, 1.00000000e-02, 3.16227766e-02,\n",
       "       1.00000000e-01, 3.16227766e-01, 1.00000000e+00, 3.16227766e+00,\n",
       "       1.00000000e+01, 3.16227766e+01, 1.00000000e+02, 3.16227766e+02,\n",
       "       1.00000000e+03]),\n",
       "                         &#x27;gamma&#x27;: array([1.00000000e-03, 3.16227766e-02, 1.00000000e+00, 3.16227766e+01,\n",
       "       1.00000000e+03]),\n",
       "                         &#x27;kernel&#x27;: (&#x27;linear&#x27;, &#x27;rbf&#x27;, &#x27;poly&#x27;, &#x27;rbf&#x27;, &#x27;sigmoid&#x27;)})</pre></div></div></div><div class=\"sk-parallel\"><div class=\"sk-parallel-item\"><div class=\"sk-item\"><div class=\"sk-label-container\"><div class=\"sk-label sk-toggleable\"><input class=\"sk-toggleable__control sk-hidden--visually\" id=\"sk-estimator-id-56\" type=\"checkbox\" ><label for=\"sk-estimator-id-56\" class=\"sk-toggleable__label sk-toggleable__label-arrow\">estimator: SVC</label><div class=\"sk-toggleable__content\"><pre>SVC()</pre></div></div></div><div class=\"sk-serial\"><div class=\"sk-item\"><div class=\"sk-estimator sk-toggleable\"><input class=\"sk-toggleable__control sk-hidden--visually\" id=\"sk-estimator-id-57\" type=\"checkbox\" ><label for=\"sk-estimator-id-57\" class=\"sk-toggleable__label sk-toggleable__label-arrow\">SVC</label><div class=\"sk-toggleable__content\"><pre>SVC()</pre></div></div></div></div></div></div></div></div></div></div>"
      ],
      "text/plain": [
       "GridSearchCV(cv=10, estimator=SVC(),\n",
       "             param_grid={'C': array([1.00000000e-03, 3.16227766e-03, 1.00000000e-02, 3.16227766e-02,\n",
       "       1.00000000e-01, 3.16227766e-01, 1.00000000e+00, 3.16227766e+00,\n",
       "       1.00000000e+01, 3.16227766e+01, 1.00000000e+02, 3.16227766e+02,\n",
       "       1.00000000e+03]),\n",
       "                         'gamma': array([1.00000000e-03, 3.16227766e-02, 1.00000000e+00, 3.16227766e+01,\n",
       "       1.00000000e+03]),\n",
       "                         'kernel': ('linear', 'rbf', 'poly', 'rbf', 'sigmoid')})"
      ]
     },
     "execution_count": 101,
     "metadata": {},
     "output_type": "execute_result"
    }
   ],
   "source": [
    "svm_cv = GridSearchCV(svm1, parameters, cv= 10)\n",
    "svm_cv.fit(X_train, y_train)"
   ]
  },
  {
   "cell_type": "code",
   "execution_count": 102,
   "id": "0c6d56c8",
   "metadata": {},
   "outputs": [
    {
     "name": "stdout",
     "output_type": "stream",
     "text": [
      "tuned hpyerparameters :(best parameters)  {'C': 10.0, 'gamma': 1000.0, 'kernel': 'sigmoid'}\n",
      "accuracy : 57.00000000000001 %\n"
     ]
    }
   ],
   "source": [
    "print(\"tuned hpyerparameters :(best parameters) \",svm_cv.best_params_)\n",
    "print(\"accuracy :\",svm_cv.best_score_*100, \"%\")"
   ]
  },
  {
   "cell_type": "code",
   "execution_count": 89,
   "id": "67fe42b8",
   "metadata": {},
   "outputs": [
    {
     "name": "stdout",
     "output_type": "stream",
     "text": [
      "   mean_fit_time  std_fit_time  mean_score_time  std_score_time param_C  \\\n",
      "0       0.003861      0.002556         0.001610        0.000605   0.001   \n",
      "1       0.002237      0.002004         0.002674        0.005400   0.001   \n",
      "2       0.001562      0.004685         0.001563        0.004688   0.001   \n",
      "3       0.001562      0.004686         0.001562        0.004685   0.001   \n",
      "4       0.000000      0.000000         0.003124        0.006249   0.001   \n",
      "\n",
      "  param_gamma param_kernel                                             params  \\\n",
      "0       0.001          rbf      {'C': 0.001, 'gamma': 0.001, 'kernel': 'rbf'}   \n",
      "1       0.001         poly     {'C': 0.001, 'gamma': 0.001, 'kernel': 'poly'}   \n",
      "2       0.001          rbf      {'C': 0.001, 'gamma': 0.001, 'kernel': 'rbf'}   \n",
      "3       0.001      sigmoid  {'C': 0.001, 'gamma': 0.001, 'kernel': 'sigmoid'}   \n",
      "4    0.031623          rbf  {'C': 0.001, 'gamma': 0.03162277660168379, 'ke...   \n",
      "\n",
      "   split0_test_score  split1_test_score  ...  split3_test_score  \\\n",
      "0           0.333333           0.333333  ...           0.333333   \n",
      "1           0.333333           0.333333  ...           0.333333   \n",
      "2           0.333333           0.333333  ...           0.333333   \n",
      "3           0.333333           0.333333  ...           0.333333   \n",
      "4           0.333333           0.333333  ...           0.333333   \n",
      "\n",
      "   split4_test_score  split5_test_score  split6_test_score  split7_test_score  \\\n",
      "0           0.333333                0.5                0.5                0.5   \n",
      "1           0.333333                0.5                0.5                0.5   \n",
      "2           0.333333                0.5                0.5                0.5   \n",
      "3           0.333333                0.5                0.5                0.5   \n",
      "4           0.333333                0.5                0.5                0.5   \n",
      "\n",
      "   split8_test_score  split9_test_score  mean_test_score  std_test_score  \\\n",
      "0                0.4                0.4         0.396667        0.072188   \n",
      "1                0.4                0.4         0.396667        0.072188   \n",
      "2                0.4                0.4         0.396667        0.072188   \n",
      "3                0.4                0.4         0.396667        0.072188   \n",
      "4                0.4                0.4         0.396667        0.072188   \n",
      "\n",
      "   rank_test_score  \n",
      "0               56  \n",
      "1               56  \n",
      "2               56  \n",
      "3               56  \n",
      "4               56  \n",
      "\n",
      "[5 rows x 21 columns]\n"
     ]
    }
   ],
   "source": [
    "results = pd.DataFrame(svm_cv.cv_results_)\n",
    "print(results.head())"
   ]
  },
  {
   "cell_type": "code",
   "execution_count": 44,
   "id": "7c52c7e6",
   "metadata": {},
   "outputs": [],
   "source": [
    "parameters = {'criterion': ['gini', 'entropy'],\n",
    "     'splitter': ['best', 'random'],\n",
    "     'max_depth': range(1, 10, 1),\n",
    "     'min_samples_leaf': range(1, 20, 2),\n",
    "     'min_samples_split': range(2, 20, 2),}\n",
    "\n",
    "     #'max_depth': [2*n for n in range(1,10)],\n",
    "     #'max_features': ['auto', 'sqrt'],\n",
    "     #'min_samples_leaf': [1, 2, 4],\n",
    "     #'min_samples_split': [2, 5, 10]}\n",
    "\n",
    "import warnings\n",
    "warnings.filterwarnings(\"ignore\")\n",
    "from sklearn.exceptions import FitFailedWarning \n",
    "\n",
    "tree = DecisionTreeClassifier()\n"
   ]
  },
  {
   "cell_type": "code",
   "execution_count": 45,
   "id": "efc28cbf",
   "metadata": {
    "scrolled": false
   },
   "outputs": [
    {
     "name": "stdout",
     "output_type": "stream",
     "text": [
      "Fitting 5 folds for each of 3240 candidates, totalling 16200 fits\n"
     ]
    },
    {
     "data": {
      "text/html": [
       "<style>#sk-container-id-12 {color: black;}#sk-container-id-12 pre{padding: 0;}#sk-container-id-12 div.sk-toggleable {background-color: white;}#sk-container-id-12 label.sk-toggleable__label {cursor: pointer;display: block;width: 100%;margin-bottom: 0;padding: 0.3em;box-sizing: border-box;text-align: center;}#sk-container-id-12 label.sk-toggleable__label-arrow:before {content: \"▸\";float: left;margin-right: 0.25em;color: #696969;}#sk-container-id-12 label.sk-toggleable__label-arrow:hover:before {color: black;}#sk-container-id-12 div.sk-estimator:hover label.sk-toggleable__label-arrow:before {color: black;}#sk-container-id-12 div.sk-toggleable__content {max-height: 0;max-width: 0;overflow: hidden;text-align: left;background-color: #f0f8ff;}#sk-container-id-12 div.sk-toggleable__content pre {margin: 0.2em;color: black;border-radius: 0.25em;background-color: #f0f8ff;}#sk-container-id-12 input.sk-toggleable__control:checked~div.sk-toggleable__content {max-height: 200px;max-width: 100%;overflow: auto;}#sk-container-id-12 input.sk-toggleable__control:checked~label.sk-toggleable__label-arrow:before {content: \"▾\";}#sk-container-id-12 div.sk-estimator input.sk-toggleable__control:checked~label.sk-toggleable__label {background-color: #d4ebff;}#sk-container-id-12 div.sk-label input.sk-toggleable__control:checked~label.sk-toggleable__label {background-color: #d4ebff;}#sk-container-id-12 input.sk-hidden--visually {border: 0;clip: rect(1px 1px 1px 1px);clip: rect(1px, 1px, 1px, 1px);height: 1px;margin: -1px;overflow: hidden;padding: 0;position: absolute;width: 1px;}#sk-container-id-12 div.sk-estimator {font-family: monospace;background-color: #f0f8ff;border: 1px dotted black;border-radius: 0.25em;box-sizing: border-box;margin-bottom: 0.5em;}#sk-container-id-12 div.sk-estimator:hover {background-color: #d4ebff;}#sk-container-id-12 div.sk-parallel-item::after {content: \"\";width: 100%;border-bottom: 1px solid gray;flex-grow: 1;}#sk-container-id-12 div.sk-label:hover label.sk-toggleable__label {background-color: #d4ebff;}#sk-container-id-12 div.sk-serial::before {content: \"\";position: absolute;border-left: 1px solid gray;box-sizing: border-box;top: 0;bottom: 0;left: 50%;z-index: 0;}#sk-container-id-12 div.sk-serial {display: flex;flex-direction: column;align-items: center;background-color: white;padding-right: 0.2em;padding-left: 0.2em;position: relative;}#sk-container-id-12 div.sk-item {position: relative;z-index: 1;}#sk-container-id-12 div.sk-parallel {display: flex;align-items: stretch;justify-content: center;background-color: white;position: relative;}#sk-container-id-12 div.sk-item::before, #sk-container-id-12 div.sk-parallel-item::before {content: \"\";position: absolute;border-left: 1px solid gray;box-sizing: border-box;top: 0;bottom: 0;left: 50%;z-index: -1;}#sk-container-id-12 div.sk-parallel-item {display: flex;flex-direction: column;z-index: 1;position: relative;background-color: white;}#sk-container-id-12 div.sk-parallel-item:first-child::after {align-self: flex-end;width: 50%;}#sk-container-id-12 div.sk-parallel-item:last-child::after {align-self: flex-start;width: 50%;}#sk-container-id-12 div.sk-parallel-item:only-child::after {width: 0;}#sk-container-id-12 div.sk-dashed-wrapped {border: 1px dashed gray;margin: 0 0.4em 0.5em 0.4em;box-sizing: border-box;padding-bottom: 0.4em;background-color: white;}#sk-container-id-12 div.sk-label label {font-family: monospace;font-weight: bold;display: inline-block;line-height: 1.2em;}#sk-container-id-12 div.sk-label-container {text-align: center;}#sk-container-id-12 div.sk-container {/* jupyter's `normalize.less` sets `[hidden] { display: none; }` but bootstrap.min.css set `[hidden] { display: none !important; }` so we also need the `!important` here to be able to override the default hidden behavior on the sphinx rendered scikit-learn.org. See: https://github.com/scikit-learn/scikit-learn/issues/21755 */display: inline-block !important;position: relative;}#sk-container-id-12 div.sk-text-repr-fallback {display: none;}</style><div id=\"sk-container-id-12\" class=\"sk-top-container\"><div class=\"sk-text-repr-fallback\"><pre>GridSearchCV(cv=5, estimator=DecisionTreeClassifier(),\n",
       "             param_grid={&#x27;criterion&#x27;: [&#x27;gini&#x27;, &#x27;entropy&#x27;],\n",
       "                         &#x27;max_depth&#x27;: range(1, 10),\n",
       "                         &#x27;min_samples_leaf&#x27;: range(1, 20, 2),\n",
       "                         &#x27;min_samples_split&#x27;: range(2, 20, 2),\n",
       "                         &#x27;splitter&#x27;: [&#x27;best&#x27;, &#x27;random&#x27;]},\n",
       "             verbose=True)</pre><b>In a Jupyter environment, please rerun this cell to show the HTML representation or trust the notebook. <br />On GitHub, the HTML representation is unable to render, please try loading this page with nbviewer.org.</b></div><div class=\"sk-container\" hidden><div class=\"sk-item sk-dashed-wrapped\"><div class=\"sk-label-container\"><div class=\"sk-label sk-toggleable\"><input class=\"sk-toggleable__control sk-hidden--visually\" id=\"sk-estimator-id-34\" type=\"checkbox\" ><label for=\"sk-estimator-id-34\" class=\"sk-toggleable__label sk-toggleable__label-arrow\">GridSearchCV</label><div class=\"sk-toggleable__content\"><pre>GridSearchCV(cv=5, estimator=DecisionTreeClassifier(),\n",
       "             param_grid={&#x27;criterion&#x27;: [&#x27;gini&#x27;, &#x27;entropy&#x27;],\n",
       "                         &#x27;max_depth&#x27;: range(1, 10),\n",
       "                         &#x27;min_samples_leaf&#x27;: range(1, 20, 2),\n",
       "                         &#x27;min_samples_split&#x27;: range(2, 20, 2),\n",
       "                         &#x27;splitter&#x27;: [&#x27;best&#x27;, &#x27;random&#x27;]},\n",
       "             verbose=True)</pre></div></div></div><div class=\"sk-parallel\"><div class=\"sk-parallel-item\"><div class=\"sk-item\"><div class=\"sk-label-container\"><div class=\"sk-label sk-toggleable\"><input class=\"sk-toggleable__control sk-hidden--visually\" id=\"sk-estimator-id-35\" type=\"checkbox\" ><label for=\"sk-estimator-id-35\" class=\"sk-toggleable__label sk-toggleable__label-arrow\">estimator: DecisionTreeClassifier</label><div class=\"sk-toggleable__content\"><pre>DecisionTreeClassifier()</pre></div></div></div><div class=\"sk-serial\"><div class=\"sk-item\"><div class=\"sk-estimator sk-toggleable\"><input class=\"sk-toggleable__control sk-hidden--visually\" id=\"sk-estimator-id-36\" type=\"checkbox\" ><label for=\"sk-estimator-id-36\" class=\"sk-toggleable__label sk-toggleable__label-arrow\">DecisionTreeClassifier</label><div class=\"sk-toggleable__content\"><pre>DecisionTreeClassifier()</pre></div></div></div></div></div></div></div></div></div></div>"
      ],
      "text/plain": [
       "GridSearchCV(cv=5, estimator=DecisionTreeClassifier(),\n",
       "             param_grid={'criterion': ['gini', 'entropy'],\n",
       "                         'max_depth': range(1, 10),\n",
       "                         'min_samples_leaf': range(1, 20, 2),\n",
       "                         'min_samples_split': range(2, 20, 2),\n",
       "                         'splitter': ['best', 'random']},\n",
       "             verbose=True)"
      ]
     },
     "execution_count": 45,
     "metadata": {},
     "output_type": "execute_result"
    }
   ],
   "source": [
    "tree_cv = GridSearchCV(tree, parameters, cv= 5, verbose=True)\n",
    "tree_cv.fit(X_train, y_train)"
   ]
  },
  {
   "cell_type": "code",
   "execution_count": 46,
   "id": "92d3e4ac",
   "metadata": {},
   "outputs": [
    {
     "name": "stdout",
     "output_type": "stream",
     "text": [
      "tuned hpyerparameters :(best parameters)  {'criterion': 'gini', 'max_depth': 9, 'min_samples_leaf': 1, 'min_samples_split': 2, 'splitter': 'best'}\n",
      "accuracy : 98.33333333333331 %\n"
     ]
    }
   ],
   "source": [
    "print(\"tuned hyperparameters :(best parameters) \",tree_cv.best_params_)\n",
    "print(\"accuracy :\",tree_cv.best_score_*100, \"%\")\n"
   ]
  },
  {
   "cell_type": "code",
   "execution_count": 92,
   "id": "60df7a55",
   "metadata": {},
   "outputs": [
    {
     "name": "stdout",
     "output_type": "stream",
     "text": [
      "      mean_fit_time  std_fit_time  mean_score_time  std_score_time  \\\n",
      "3230       0.003124      0.006247         0.000000        0.000000   \n",
      "3231       0.000000      0.000000         0.003124        0.006249   \n",
      "3232       0.000000      0.000000         0.003124        0.006248   \n",
      "3233       0.003124      0.006248         0.000000        0.000000   \n",
      "3234       0.000000      0.000000         0.003125        0.006250   \n",
      "3235       0.003123      0.006247         0.003124        0.006247   \n",
      "3236       0.000000      0.000000         0.000000        0.000000   \n",
      "3237       0.003125      0.006249         0.003124        0.006248   \n",
      "3238       0.000000      0.000000         0.000000        0.000000   \n",
      "3239       0.003124      0.006248         0.000000        0.000000   \n",
      "\n",
      "     param_criterion param_max_depth param_min_samples_leaf  \\\n",
      "3230         entropy               9                     19   \n",
      "3231         entropy               9                     19   \n",
      "3232         entropy               9                     19   \n",
      "3233         entropy               9                     19   \n",
      "3234         entropy               9                     19   \n",
      "3235         entropy               9                     19   \n",
      "3236         entropy               9                     19   \n",
      "3237         entropy               9                     19   \n",
      "3238         entropy               9                     19   \n",
      "3239         entropy               9                     19   \n",
      "\n",
      "     param_min_samples_split param_splitter  \\\n",
      "3230                      10           best   \n",
      "3231                      10         random   \n",
      "3232                      12           best   \n",
      "3233                      12         random   \n",
      "3234                      14           best   \n",
      "3235                      14         random   \n",
      "3236                      16           best   \n",
      "3237                      16         random   \n",
      "3238                      18           best   \n",
      "3239                      18         random   \n",
      "\n",
      "                                                 params  split0_test_score  \\\n",
      "3230  {'criterion': 'entropy', 'max_depth': 9, 'min_...           0.666667   \n",
      "3231  {'criterion': 'entropy', 'max_depth': 9, 'min_...           0.583333   \n",
      "3232  {'criterion': 'entropy', 'max_depth': 9, 'min_...           0.666667   \n",
      "3233  {'criterion': 'entropy', 'max_depth': 9, 'min_...           0.583333   \n",
      "3234  {'criterion': 'entropy', 'max_depth': 9, 'min_...           0.666667   \n",
      "3235  {'criterion': 'entropy', 'max_depth': 9, 'min_...           0.583333   \n",
      "3236  {'criterion': 'entropy', 'max_depth': 9, 'min_...           0.666667   \n",
      "3237  {'criterion': 'entropy', 'max_depth': 9, 'min_...           0.583333   \n",
      "3238  {'criterion': 'entropy', 'max_depth': 9, 'min_...           0.666667   \n",
      "3239  {'criterion': 'entropy', 'max_depth': 9, 'min_...           0.416667   \n",
      "\n",
      "      split1_test_score  split2_test_score  split3_test_score  \\\n",
      "3230           0.666667           0.500000           0.636364   \n",
      "3231           0.500000           0.500000           0.454545   \n",
      "3232           0.666667           0.500000           0.636364   \n",
      "3233           0.666667           0.333333           0.545455   \n",
      "3234           0.666667           0.500000           0.636364   \n",
      "3235           0.500000           0.333333           0.363636   \n",
      "3236           0.666667           0.500000           0.636364   \n",
      "3237           0.500000           0.333333           0.454545   \n",
      "3238           0.666667           0.500000           0.636364   \n",
      "3239           0.500000           0.333333           0.545455   \n",
      "\n",
      "      split4_test_score  mean_test_score  std_test_score  rank_test_score  \n",
      "3230           0.545455         0.603030        0.068030              464  \n",
      "3231           0.454545         0.498485        0.047043             1828  \n",
      "3232           0.545455         0.603030        0.068030              464  \n",
      "3233           0.454545         0.516667        0.114231             1605  \n",
      "3234           0.545455         0.603030        0.068030              464  \n",
      "3235           0.454545         0.446970        0.090909             2703  \n",
      "3236           0.545455         0.603030        0.068030              464  \n",
      "3237           0.545455         0.483333        0.086563             2020  \n",
      "3238           0.545455         0.603030        0.068030              464  \n",
      "3239           0.545455         0.468182        0.082210             2244  \n",
      "Fitting 5 folds for each of 3240 candidates, totalling 16200 fits\n",
      "Precision:  [1. 1. 1.]\n",
      "Recall:  [1. 1. 1.]\n"
     ]
    }
   ],
   "source": [
    "results = pd.DataFrame(tree_cv.cv_results_)\n",
    "print(results.tail(10))"
   ]
  },
  {
   "cell_type": "code",
   "execution_count": 79,
   "id": "9d50f10e",
   "metadata": {},
   "outputs": [],
   "source": [
    "parameters = {'n_neighbors': [5],\n",
    "              'algorithm': ['auto'],\n",
    "              'p': [1]}\n",
    "\n",
    "KNN = KNeighborsClassifier()"
   ]
  },
  {
   "cell_type": "code",
   "execution_count": 80,
   "id": "2f6958ba",
   "metadata": {},
   "outputs": [
    {
     "data": {
      "text/html": [
       "<style>#sk-container-id-18 {color: black;}#sk-container-id-18 pre{padding: 0;}#sk-container-id-18 div.sk-toggleable {background-color: white;}#sk-container-id-18 label.sk-toggleable__label {cursor: pointer;display: block;width: 100%;margin-bottom: 0;padding: 0.3em;box-sizing: border-box;text-align: center;}#sk-container-id-18 label.sk-toggleable__label-arrow:before {content: \"▸\";float: left;margin-right: 0.25em;color: #696969;}#sk-container-id-18 label.sk-toggleable__label-arrow:hover:before {color: black;}#sk-container-id-18 div.sk-estimator:hover label.sk-toggleable__label-arrow:before {color: black;}#sk-container-id-18 div.sk-toggleable__content {max-height: 0;max-width: 0;overflow: hidden;text-align: left;background-color: #f0f8ff;}#sk-container-id-18 div.sk-toggleable__content pre {margin: 0.2em;color: black;border-radius: 0.25em;background-color: #f0f8ff;}#sk-container-id-18 input.sk-toggleable__control:checked~div.sk-toggleable__content {max-height: 200px;max-width: 100%;overflow: auto;}#sk-container-id-18 input.sk-toggleable__control:checked~label.sk-toggleable__label-arrow:before {content: \"▾\";}#sk-container-id-18 div.sk-estimator input.sk-toggleable__control:checked~label.sk-toggleable__label {background-color: #d4ebff;}#sk-container-id-18 div.sk-label input.sk-toggleable__control:checked~label.sk-toggleable__label {background-color: #d4ebff;}#sk-container-id-18 input.sk-hidden--visually {border: 0;clip: rect(1px 1px 1px 1px);clip: rect(1px, 1px, 1px, 1px);height: 1px;margin: -1px;overflow: hidden;padding: 0;position: absolute;width: 1px;}#sk-container-id-18 div.sk-estimator {font-family: monospace;background-color: #f0f8ff;border: 1px dotted black;border-radius: 0.25em;box-sizing: border-box;margin-bottom: 0.5em;}#sk-container-id-18 div.sk-estimator:hover {background-color: #d4ebff;}#sk-container-id-18 div.sk-parallel-item::after {content: \"\";width: 100%;border-bottom: 1px solid gray;flex-grow: 1;}#sk-container-id-18 div.sk-label:hover label.sk-toggleable__label {background-color: #d4ebff;}#sk-container-id-18 div.sk-serial::before {content: \"\";position: absolute;border-left: 1px solid gray;box-sizing: border-box;top: 0;bottom: 0;left: 50%;z-index: 0;}#sk-container-id-18 div.sk-serial {display: flex;flex-direction: column;align-items: center;background-color: white;padding-right: 0.2em;padding-left: 0.2em;position: relative;}#sk-container-id-18 div.sk-item {position: relative;z-index: 1;}#sk-container-id-18 div.sk-parallel {display: flex;align-items: stretch;justify-content: center;background-color: white;position: relative;}#sk-container-id-18 div.sk-item::before, #sk-container-id-18 div.sk-parallel-item::before {content: \"\";position: absolute;border-left: 1px solid gray;box-sizing: border-box;top: 0;bottom: 0;left: 50%;z-index: -1;}#sk-container-id-18 div.sk-parallel-item {display: flex;flex-direction: column;z-index: 1;position: relative;background-color: white;}#sk-container-id-18 div.sk-parallel-item:first-child::after {align-self: flex-end;width: 50%;}#sk-container-id-18 div.sk-parallel-item:last-child::after {align-self: flex-start;width: 50%;}#sk-container-id-18 div.sk-parallel-item:only-child::after {width: 0;}#sk-container-id-18 div.sk-dashed-wrapped {border: 1px dashed gray;margin: 0 0.4em 0.5em 0.4em;box-sizing: border-box;padding-bottom: 0.4em;background-color: white;}#sk-container-id-18 div.sk-label label {font-family: monospace;font-weight: bold;display: inline-block;line-height: 1.2em;}#sk-container-id-18 div.sk-label-container {text-align: center;}#sk-container-id-18 div.sk-container {/* jupyter's `normalize.less` sets `[hidden] { display: none; }` but bootstrap.min.css set `[hidden] { display: none !important; }` so we also need the `!important` here to be able to override the default hidden behavior on the sphinx rendered scikit-learn.org. See: https://github.com/scikit-learn/scikit-learn/issues/21755 */display: inline-block !important;position: relative;}#sk-container-id-18 div.sk-text-repr-fallback {display: none;}</style><div id=\"sk-container-id-18\" class=\"sk-top-container\"><div class=\"sk-text-repr-fallback\"><pre>GridSearchCV(cv=10, estimator=KNeighborsClassifier(),\n",
       "             param_grid={&#x27;algorithm&#x27;: [&#x27;auto&#x27;], &#x27;n_neighbors&#x27;: [5], &#x27;p&#x27;: [1]})</pre><b>In a Jupyter environment, please rerun this cell to show the HTML representation or trust the notebook. <br />On GitHub, the HTML representation is unable to render, please try loading this page with nbviewer.org.</b></div><div class=\"sk-container\" hidden><div class=\"sk-item sk-dashed-wrapped\"><div class=\"sk-label-container\"><div class=\"sk-label sk-toggleable\"><input class=\"sk-toggleable__control sk-hidden--visually\" id=\"sk-estimator-id-52\" type=\"checkbox\" ><label for=\"sk-estimator-id-52\" class=\"sk-toggleable__label sk-toggleable__label-arrow\">GridSearchCV</label><div class=\"sk-toggleable__content\"><pre>GridSearchCV(cv=10, estimator=KNeighborsClassifier(),\n",
       "             param_grid={&#x27;algorithm&#x27;: [&#x27;auto&#x27;], &#x27;n_neighbors&#x27;: [5], &#x27;p&#x27;: [1]})</pre></div></div></div><div class=\"sk-parallel\"><div class=\"sk-parallel-item\"><div class=\"sk-item\"><div class=\"sk-label-container\"><div class=\"sk-label sk-toggleable\"><input class=\"sk-toggleable__control sk-hidden--visually\" id=\"sk-estimator-id-53\" type=\"checkbox\" ><label for=\"sk-estimator-id-53\" class=\"sk-toggleable__label sk-toggleable__label-arrow\">estimator: KNeighborsClassifier</label><div class=\"sk-toggleable__content\"><pre>KNeighborsClassifier()</pre></div></div></div><div class=\"sk-serial\"><div class=\"sk-item\"><div class=\"sk-estimator sk-toggleable\"><input class=\"sk-toggleable__control sk-hidden--visually\" id=\"sk-estimator-id-54\" type=\"checkbox\" ><label for=\"sk-estimator-id-54\" class=\"sk-toggleable__label sk-toggleable__label-arrow\">KNeighborsClassifier</label><div class=\"sk-toggleable__content\"><pre>KNeighborsClassifier()</pre></div></div></div></div></div></div></div></div></div></div>"
      ],
      "text/plain": [
       "GridSearchCV(cv=10, estimator=KNeighborsClassifier(),\n",
       "             param_grid={'algorithm': ['auto'], 'n_neighbors': [5], 'p': [1]})"
      ]
     },
     "execution_count": 80,
     "metadata": {},
     "output_type": "execute_result"
    }
   ],
   "source": [
    "knn_cv = GridSearchCV(KNN, parameters, cv =10)\n",
    "knn_cv.fit(X_train, y_train)"
   ]
  },
  {
   "cell_type": "code",
   "execution_count": 81,
   "id": "596ccb56",
   "metadata": {},
   "outputs": [
    {
     "name": "stdout",
     "output_type": "stream",
     "text": [
      "tuned hpyerparameters :(best parameters)  {'algorithm': 'auto', 'n_neighbors': 5, 'p': 1}\n",
      "accuracy : 59.0 %\n"
     ]
    }
   ],
   "source": [
    "print(\"tuned hpyerparameters :(best parameters) \",knn_cv.best_params_)\n",
    "print(\"accuracy :\",knn_cv.best_score_*100, \"%\")"
   ]
  },
  {
   "cell_type": "code",
   "execution_count": 103,
   "id": "5da1e760",
   "metadata": {},
   "outputs": [
    {
     "name": "stdout",
     "output_type": "stream",
     "text": [
      "   mean_fit_time  std_fit_time  mean_score_time  std_score_time  \\\n",
      "0        0.01187      0.035611         0.009366        0.010349   \n",
      "\n",
      "  param_algorithm param_n_neighbors param_p  \\\n",
      "0            auto                 5       1   \n",
      "\n",
      "                                            params  split0_test_score  \\\n",
      "0  {'algorithm': 'auto', 'n_neighbors': 5, 'p': 1}                0.5   \n",
      "\n",
      "   split1_test_score  ...  split3_test_score  split4_test_score  \\\n",
      "0                0.5  ...           0.666667           0.333333   \n",
      "\n",
      "   split5_test_score  split6_test_score  split7_test_score  split8_test_score  \\\n",
      "0           0.666667           0.666667           0.666667                0.8   \n",
      "\n",
      "   split9_test_score  mean_test_score  std_test_score  rank_test_score  \n",
      "0                0.6             0.59        0.125654                1  \n",
      "\n",
      "[1 rows x 21 columns]\n"
     ]
    }
   ],
   "source": [
    "results = pd.DataFrame(knn_cv.cv_results_)\n",
    "print(results.tail(10))"
   ]
  },
  {
   "cell_type": "code",
   "execution_count": null,
   "id": "8b18d501",
   "metadata": {},
   "outputs": [],
   "source": []
  }
 ],
 "metadata": {
  "kernelspec": {
   "display_name": "Python 3 (ipykernel)",
   "language": "python",
   "name": "python3"
  },
  "language_info": {
   "codemirror_mode": {
    "name": "ipython",
    "version": 3
   },
   "file_extension": ".py",
   "mimetype": "text/x-python",
   "name": "python",
   "nbconvert_exporter": "python",
   "pygments_lexer": "ipython3",
   "version": "3.11.5"
  }
 },
 "nbformat": 4,
 "nbformat_minor": 5
}
